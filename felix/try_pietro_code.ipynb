{
 "cells": [
  {
   "cell_type": "code",
   "execution_count": 1,
   "metadata": {},
   "outputs": [],
   "source": [
    "from VesicleShapesPietro import *\n",
    "import matplotlib.pyplot as plt\n",
    "import numpy as np"
   ]
  },
  {
   "cell_type": "code",
   "execution_count": 48,
   "metadata": {},
   "outputs": [
    {
     "name": "stdout",
     "output_type": "stream",
     "text": [
      "xstar:0.09796420871541218\n"
     ]
    }
   ],
   "source": [
    "Rparticle = 5\n",
    "Rvesicle = 30.0\n",
    "rpa = Rparticle / Rvesicle\n",
    "A = 4 * np.pi * Rvesicle**2\n",
    "\n",
    "k = 1.0  # bending rigidity\n",
    "W = 0.1  # adhesion strength density J/m^2\n",
    "\n",
    "\n",
    "phi = np.pi*0.2  # wrapping angle\n",
    "Abo = 2 * np.pi * Rparticle**2 * (1 - np.cos(phi))  # check\n",
    "Vbo = np.pi/3*Rparticle**3*(2+np.cos(phi))*(1-np.cos(phi))**2\n",
    "\n",
    "sigma = 0.55\n",
    "u0 = 1.0\n",
    "ustar = 3\n",
    "omega = 2\n",
    "gammastar = 1\n",
    "free_params_extended = [omega, sigma, u0, ustar, gammastar]\n",
    "\n",
    "# Boundary conditions\n",
    "psistar = np.pi + phi\n",
    "xstar = rpa*np.sin(phi)\n",
    "if xstar < 0.035:\n",
    "    print(f\"xstar:{xstar}\")\n",
    "    raise ValueError('xstar too small, can lead to divergences')\n",
    "else:\n",
    "    print(f\"xstar:{xstar}\")\n",
    "Astar = (A-Abo)/(4*np.pi*Rvesicle**2)"
   ]
  },
  {
   "cell_type": "code",
   "execution_count": 49,
   "metadata": {},
   "outputs": [],
   "source": [
    "uf = ustar"
   ]
  },
  {
   "cell_type": "code",
   "execution_count": 50,
   "metadata": {},
   "outputs": [
    {
     "name": "stdout",
     "output_type": "stream",
     "text": [
      "s_init:0.0176\n",
      "approx init values:[0.03519745583786667, 0.999891584, 0.12163181058557332, 0.03519273096533333, 0.0003097280162474667]\n",
      "shape (1000,)\n"
     ]
    }
   ],
   "source": [
    "s_init = InitialArcLength((omega, u0))\n",
    "print(f\"s_init:{s_init}\")\n",
    "\n",
    "# calculate initial values\n",
    "z_init = InitialValues(s_init, (omega, u0, sigma, k))\n",
    "print(f\"approx init values:{z_init}\")\n",
    "\n",
    "# evaluation points for the solution\n",
    "s = np.linspace(s_init, omega, 1000)\n",
    "print(\"shape\", s.shape)\n",
    "\n",
    "sol = solve_ivp(ShapeIntegrator, t_span=[s_init, omega], y0=z_init, jac=ShapeJacobian, args=(\n",
    "    omega, sigma), t_eval=s, method='Radau')"
   ]
  },
  {
   "cell_type": "code",
   "execution_count": 60,
   "metadata": {},
   "outputs": [],
   "source": [
    "sol = solve_ivp(ShapeIntegrator, t_span=[s_init, omega], y0=z_init, jac=ShapeJacobian, args=(\n",
    "    omega, sigma), method='BDF')"
   ]
  },
  {
   "cell_type": "code",
   "execution_count": 61,
   "metadata": {},
   "outputs": [
    {
     "name": "stdout",
     "output_type": "stream",
     "text": [
      "  message: Required step size is less than spacing between numbers.\n",
      "  success: False\n",
      "   status: -1\n",
      "        t: [ 1.760e-02  1.760e-02 ...  1.980e-02  1.980e-02]\n",
      "        y: [[ 3.520e-02  3.520e-02 ...  1.071e-08  1.071e-08]\n",
      "            [ 9.999e-01  1.001e+00 ...  1.571e+00  1.571e+00]\n",
      "            ...\n",
      "            [ 3.519e-02  3.519e-02 ...  3.582e-02  3.582e-02]\n",
      "            [ 3.097e-04  3.098e-04 ...  4.271e-04  4.271e-04]]\n",
      "      sol: None\n",
      " t_events: None\n",
      " y_events: None\n",
      "     nfev: 36170\n",
      "     njev: 3349\n",
      "      nlu: 14305\n"
     ]
    }
   ],
   "source": [
    "print(sol)"
   ]
  },
  {
   "cell_type": "code",
   "execution_count": 62,
   "metadata": {},
   "outputs": [
    {
     "data": {
      "text/plain": [
       "[<matplotlib.lines.Line2D at 0x75e724233d40>]"
      ]
     },
     "execution_count": 62,
     "metadata": {},
     "output_type": "execute_result"
    },
    {
     "data": {
      "image/png": "[encoded data removed]",
      "text/plain": [
       "<Figure size 640x480 with 1 Axes>"
      ]
     },
     "metadata": {},
     "output_type": "display_data"
    }
   ],
   "source": [
    "plt.semilogx(sol.t, sol.y[1, :], 'bo-')"
   ]
  },
  {
   "cell_type": "code",
   "execution_count": 54,
   "metadata": {},
   "outputs": [
    {
     "data": {
      "text/plain": [
       "array([ 8.11491795e-09,  1.57068671e+00, -2.78257998e+04,  3.58207859e-02,\n",
       "        4.27244810e-04])"
      ]
     },
     "execution_count": 54,
     "metadata": {},
     "output_type": "execute_result"
    }
   ],
   "source": [
    "sol.y[:, -1]"
   ]
  },
  {
   "cell_type": "markdown",
   "metadata": {},
   "source": [
    "# test when xstar is too small"
   ]
  },
  {
   "cell_type": "code",
   "execution_count": 34,
   "metadata": {},
   "outputs": [
    {
     "name": "stdout",
     "output_type": "stream",
     "text": [
      "xstar:0.049999999999999996\n"
     ]
    }
   ],
   "source": [
    "Rparticle = 3\n",
    "Rvesicle = 30\n",
    "phi = np.pi/6\n",
    "rpa = Rparticle / Rvesicle\n",
    "xstar = rpa*np.sin(phi)\n",
    "print(f\"xstar:{xstar}\")"
   ]
  }
 ],
 "metadata": {
  "kernelspec": {
   "display_name": "Python 3",
   "language": "python",
   "name": "python3"
  },
  "language_info": {
   "codemirror_mode": {
    "name": "ipython",
    "version": 3
   },
   "file_extension": ".py",
   "mimetype": "text/x-python",
   "name": "python",
   "nbconvert_exporter": "python",
   "pygments_lexer": "ipython3",
   "version": "3.12.3"
  }
 },
 "nbformat": 4,
 "nbformat_minor": 2
}
