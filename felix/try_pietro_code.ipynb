{
 "cells": [
  {
   "cell_type": "code",
   "execution_count": 1,
   "metadata": {},
   "outputs": [],
   "source": [
    "from VesicleShapesPietro import *\n",
    "import matplotlib.pyplot as plt\n",
    "import numpy as np"
   ]
  },
  {
   "cell_type": "code",
   "execution_count": 2,
   "metadata": {},
   "outputs": [
    {
     "name": "stdout",
     "output_type": "stream",
     "text": [
      "xstar:0.09796420871541218\n"
     ]
    }
   ],
   "source": [
    "Rparticle = 5\n",
    "Rvesicle = 30.0\n",
    "rpa = Rparticle / Rvesicle\n",
    "A = 4 * np.pi * Rvesicle**2\n",
    "\n",
    "k = 1.0  # bending rigidity\n",
    "W = 0.1  # adhesion strength density J/m^2\n",
    "\n",
    "\n",
    "phi = np.pi*0.2  # wrapping angle\n",
    "Abo = 2 * np.pi * Rparticle**2 * (1 - np.cos(phi))  # check\n",
    "Vbo = np.pi/3*Rparticle**3*(2+np.cos(phi))*(1-np.cos(phi))**2\n",
    "\n",
    "sigma = 0.55\n",
    "u0 = 1.0\n",
    "ustar = 3\n",
    "omega = 2\n",
    "gammastar = 1\n",
    "free_params_extended = [omega, sigma, u0, ustar, gammastar]\n",
    "\n",
    "# Boundary conditions\n",
    "psistar = np.pi + phi\n",
    "xstar = rpa*np.sin(phi)\n",
    "if xstar < 0.035:\n",
    "    print(f\"xstar:{xstar}\")\n",
    "    raise ValueError('xstar too small, can lead to divergences')\n",
    "else:\n",
    "    print(f\"xstar:{xstar}\")\n",
    "Astar = (A-Abo)/(4*np.pi*Rvesicle**2)"
   ]
  },
  {
   "cell_type": "code",
   "execution_count": 3,
   "metadata": {},
   "outputs": [],
   "source": [
    "uf = ustar"
   ]
  },
  {
   "cell_type": "code",
   "execution_count": 5,
   "metadata": {},
   "outputs": [
    {
     "name": "stdout",
     "output_type": "stream",
     "text": [
      "s_init:0.0176\n",
      "approx init values:[0.03519745583786667, 0.999891584, 0.12163181058557332, 0.03519273096533333, 0.0003097280162474667]\n",
      "shape (1000,)\n",
      "  message: Required step size is less than spacing between numbers.\n",
      "  success: False\n",
      "   status: -1\n",
      "        t: [ 1.760e-02  1.958e-02]\n",
      "        y: [[ 3.520e-02  1.250e-02]\n",
      "            [ 9.999e-01  1.570e+00]\n",
      "            [ 1.216e-01 -1.756e+01]\n",
      "            [ 3.519e-02  3.582e-02]\n",
      "            [ 3.097e-04  4.239e-04]]\n",
      "      sol: None\n",
      " t_events: None\n",
      " y_events: None\n",
      "     nfev: 143202\n",
      "     njev: 6582\n",
      "      nlu: 39588\n"
     ]
    }
   ],
   "source": [
    "s_init = InitialArcLength((omega, u0))\n",
    "print(f\"s_init:{s_init}\")\n",
    "\n",
    "# calculate initial values\n",
    "z_init = InitialValues(s_init, (omega, u0, sigma, k))\n",
    "print(f\"approx init values:{z_init}\")\n",
    "\n",
    "# evaluation points for the solution\n",
    "s = np.linspace(s_init, omega, 1000)\n",
    "print(\"shape\", s.shape)\n",
    "\n",
    "sol = solve_ivp(ShapeIntegrator, t_span=[s_init, omega], y0=z_init, jac=ShapeJacobian, args=(\n",
    "    omega, sigma), t_eval=s, method='Radau')\n",
    "print(sol)"
   ]
  },
  {
   "cell_type": "code",
   "execution_count": 6,
   "metadata": {},
   "outputs": [
    {
     "name": "stderr",
     "output_type": "stream",
     "text": [
      "/usr/lib/python3.12/site-packages/scipy/integrate/_ivp/ivp.py:621: UserWarning: The following arguments have no effect for a chosen solver: `jac`.\n",
      "  solver = method(fun, t0, y0, tf, vectorized=vectorized, **options)\n"
     ]
    },
    {
     "name": "stdout",
     "output_type": "stream",
     "text": [
      "  message: Required step size is less than spacing between numbers.\n",
      "  success: False\n",
      "   status: -1\n",
      "        t: [ 1.760e-02  1.767e-02 ...  1.980e-02  1.980e-02]\n",
      "        y: [[ 3.520e-02  3.520e-02 ...  5.434e-09  5.432e-09]\n",
      "            [ 9.999e-01  1.048e+00 ...  1.575e+00  1.565e+00]\n",
      "            ...\n",
      "            [ 3.519e-02  3.526e-02 ...  3.582e-02  3.582e-02]\n",
      "            [ 3.097e-04  3.145e-04 ...  4.274e-04  4.274e-04]]\n",
      "      sol: None\n",
      " t_events: None\n",
      " y_events: None\n",
      "     nfev: 13673\n",
      "     njev: 0\n",
      "      nlu: 0\n"
     ]
    }
   ],
   "source": [
    "sol = solve_ivp(ShapeIntegrator, t_span=[s_init, omega], y0=z_init, jac=ShapeJacobian, args=(\n",
    "    omega, sigma), method='RK23')\n",
    "print(sol)"
   ]
  },
  {
   "cell_type": "code",
   "execution_count": 9,
   "metadata": {},
   "outputs": [
    {
     "name": "stdout",
     "output_type": "stream",
     "text": [
      " lsoda--  warning..internal t (=r1) and h (=r2) are\u0000\u0000\n",
      "       such that in the machine, t + h = t on the next step  \n",
      "       (h = step size). solver will continue anyway\u0000\u0000\n",
      "      in above,  r1 =  0.1979682347359D-01   r2 =  0.1714041437004D-17\n",
      " lsoda--  warning..internal t (=r1) and h (=r2) are\u0000\u0000\n",
      "       such that in the machine, t + h = t on the next step  \n",
      "       (h = step size). solver will continue anyway\u0000\u0000\n",
      "      in above,  r1 =  0.1979682347360D-01   r2 =  0.1700231906482D-17\n",
      " lsoda--  warning..internal t (=r1) and h (=r2) are\u0000\u0000\n",
      "       such that in the machine, t + h = t on the next step  \n",
      "       (h = step size). solver will continue anyway\u0000\u0000\n",
      "      in above,  r1 =  0.1979682347360D-01   r2 =  0.1553743297950D-17\n",
      " lsoda--  warning..internal t (=r1) and h (=r2) are\u0000\u0000\n",
      "       such that in the machine, t + h = t on the next step  \n",
      "       (h = step size). solver will continue anyway\u0000\u0000\n",
      "      in above,  r1 =  0.1979682347360D-01   r2 =  0.1646551332468D-17\n",
      " lsoda--  warning..internal t (=r1) and h (=r2) are\u0000\u0000\n",
      "       such that in the machine, t + h = t on the next step  \n",
      "       (h = step size). solver will continue anyway\u0000\u0000\n",
      "      in above,  r1 =  0.1979682347360D-01   r2 =  0.1603146299250D-17\n",
      " lsoda--  warning..internal t (=r1) and h (=r2) are\u0000\u0000\n",
      "       such that in the machine, t + h = t on the next step  \n",
      "       (h = step size). solver will continue anyway\u0000\u0000\n",
      "      in above,  r1 =  0.1979682347360D-01   r2 =  0.1616233798595D-17\n",
      " lsoda--  warning..internal t (=r1) and h (=r2) are\u0000\u0000\n",
      "       such that in the machine, t + h = t on the next step  \n",
      "       (h = step size). solver will continue anyway\u0000\u0000\n",
      "      in above,  r1 =  0.1979682347360D-01   r2 =  0.1700910123609D-17\n",
      " lsoda--  warning..internal t (=r1) and h (=r2) are\u0000\u0000\n",
      "       such that in the machine, t + h = t on the next step  \n",
      "       (h = step size). solver will continue anyway\u0000\u0000\n",
      "      in above,  r1 =  0.1979682347360D-01   r2 =  0.1458841754664D-17\n",
      " lsoda--  warning..internal t (=r1) and h (=r2) are\u0000\u0000\n",
      "       such that in the machine, t + h = t on the next step  \n",
      "       (h = step size). solver will continue anyway\u0000\u0000\n",
      "      in above,  r1 =  0.1979682347360D-01   r2 =  0.1613817246220D-17\n",
      " lsoda--  warning..internal t (=r1) and h (=r2) are\u0000\u0000\n",
      "       such that in the machine, t + h = t on the next step  \n",
      "       (h = step size). solver will continue anyway\u0000\u0000\n",
      "      in above,  r1 =  0.1979682347360D-01   r2 =  0.1694563880840D-17\n",
      " lsoda--  above warning has been issued i1 times.  \u0000\u0000\n",
      "       it will not be issued again for this problem\u0000\u0000\n",
      "      in above message,  i1 =        10\n"
     ]
    },
    {
     "name": "stderr",
     "output_type": "stream",
     "text": [
      "capi_return is NULL\n",
      "Call-back cb_jac_in_lsoda__user__routines failed.\n"
     ]
    },
    {
     "ename": "KeyboardInterrupt",
     "evalue": "",
     "output_type": "error",
     "traceback": [
      "\u001b[0;31m---------------------------------------------------------------------------\u001b[0m",
      "\u001b[0;31mKeyboardInterrupt\u001b[0m                         Traceback (most recent call last)",
      "Cell \u001b[0;32mIn[9], line 1\u001b[0m\n\u001b[0;32m----> 1\u001b[0m sol \u001b[38;5;241m=\u001b[39m \u001b[43msolve_ivp\u001b[49m\u001b[43m(\u001b[49m\u001b[43mShapeIntegrator\u001b[49m\u001b[43m,\u001b[49m\u001b[43m \u001b[49m\u001b[43mt_span\u001b[49m\u001b[38;5;241;43m=\u001b[39;49m\u001b[43m[\u001b[49m\u001b[43ms_init\u001b[49m\u001b[43m,\u001b[49m\u001b[43m \u001b[49m\u001b[43momega\u001b[49m\u001b[43m]\u001b[49m\u001b[43m,\u001b[49m\u001b[43m \u001b[49m\u001b[43my0\u001b[49m\u001b[38;5;241;43m=\u001b[39;49m\u001b[43mz_init\u001b[49m\u001b[43m,\u001b[49m\u001b[43m \u001b[49m\u001b[43mjac\u001b[49m\u001b[38;5;241;43m=\u001b[39;49m\u001b[43mShapeJacobian\u001b[49m\u001b[43m,\u001b[49m\u001b[43m \u001b[49m\u001b[43margs\u001b[49m\u001b[38;5;241;43m=\u001b[39;49m\u001b[43m(\u001b[49m\n\u001b[1;32m      2\u001b[0m \u001b[43m    \u001b[49m\u001b[43momega\u001b[49m\u001b[43m,\u001b[49m\u001b[43m \u001b[49m\u001b[43msigma\u001b[49m\u001b[43m)\u001b[49m\u001b[43m,\u001b[49m\u001b[43m \u001b[49m\u001b[43mmethod\u001b[49m\u001b[38;5;241;43m=\u001b[39;49m\u001b[38;5;124;43m'\u001b[39;49m\u001b[38;5;124;43mLSODA\u001b[39;49m\u001b[38;5;124;43m'\u001b[39;49m\u001b[43m)\u001b[49m\n\u001b[1;32m      3\u001b[0m \u001b[38;5;28mprint\u001b[39m(sol)\n",
      "File \u001b[0;32m/usr/lib/python3.12/site-packages/scipy/integrate/_ivp/ivp.py:655\u001b[0m, in \u001b[0;36msolve_ivp\u001b[0;34m(fun, t_span, y0, method, t_eval, dense_output, events, vectorized, args, **options)\u001b[0m\n\u001b[1;32m    653\u001b[0m status \u001b[38;5;241m=\u001b[39m \u001b[38;5;28;01mNone\u001b[39;00m\n\u001b[1;32m    654\u001b[0m \u001b[38;5;28;01mwhile\u001b[39;00m status \u001b[38;5;129;01mis\u001b[39;00m \u001b[38;5;28;01mNone\u001b[39;00m:\n\u001b[0;32m--> 655\u001b[0m     message \u001b[38;5;241m=\u001b[39m \u001b[43msolver\u001b[49m\u001b[38;5;241;43m.\u001b[39;49m\u001b[43mstep\u001b[49m\u001b[43m(\u001b[49m\u001b[43m)\u001b[49m\n\u001b[1;32m    657\u001b[0m     \u001b[38;5;28;01mif\u001b[39;00m solver\u001b[38;5;241m.\u001b[39mstatus \u001b[38;5;241m==\u001b[39m \u001b[38;5;124m'\u001b[39m\u001b[38;5;124mfinished\u001b[39m\u001b[38;5;124m'\u001b[39m:\n\u001b[1;32m    658\u001b[0m         status \u001b[38;5;241m=\u001b[39m \u001b[38;5;241m0\u001b[39m\n",
      "File \u001b[0;32m/usr/lib/python3.12/site-packages/scipy/integrate/_ivp/base.py:197\u001b[0m, in \u001b[0;36mOdeSolver.step\u001b[0;34m(self)\u001b[0m\n\u001b[1;32m    195\u001b[0m \u001b[38;5;28;01melse\u001b[39;00m:\n\u001b[1;32m    196\u001b[0m     t \u001b[38;5;241m=\u001b[39m \u001b[38;5;28mself\u001b[39m\u001b[38;5;241m.\u001b[39mt\n\u001b[0;32m--> 197\u001b[0m     success, message \u001b[38;5;241m=\u001b[39m \u001b[38;5;28;43mself\u001b[39;49m\u001b[38;5;241;43m.\u001b[39;49m\u001b[43m_step_impl\u001b[49m\u001b[43m(\u001b[49m\u001b[43m)\u001b[49m\n\u001b[1;32m    199\u001b[0m     \u001b[38;5;28;01mif\u001b[39;00m \u001b[38;5;129;01mnot\u001b[39;00m success:\n\u001b[1;32m    200\u001b[0m         \u001b[38;5;28mself\u001b[39m\u001b[38;5;241m.\u001b[39mstatus \u001b[38;5;241m=\u001b[39m \u001b[38;5;124m'\u001b[39m\u001b[38;5;124mfailed\u001b[39m\u001b[38;5;124m'\u001b[39m\n",
      "File \u001b[0;32m/usr/lib/python3.12/site-packages/scipy/integrate/_ivp/lsoda.py:161\u001b[0m, in \u001b[0;36mLSODA._step_impl\u001b[0;34m(self)\u001b[0m\n\u001b[1;32m    159\u001b[0m itask \u001b[38;5;241m=\u001b[39m integrator\u001b[38;5;241m.\u001b[39mcall_args[\u001b[38;5;241m2\u001b[39m]\n\u001b[1;32m    160\u001b[0m integrator\u001b[38;5;241m.\u001b[39mcall_args[\u001b[38;5;241m2\u001b[39m] \u001b[38;5;241m=\u001b[39m \u001b[38;5;241m5\u001b[39m\n\u001b[0;32m--> 161\u001b[0m solver\u001b[38;5;241m.\u001b[39m_y, solver\u001b[38;5;241m.\u001b[39mt \u001b[38;5;241m=\u001b[39m \u001b[43mintegrator\u001b[49m\u001b[38;5;241;43m.\u001b[39;49m\u001b[43mrun\u001b[49m\u001b[43m(\u001b[49m\n\u001b[1;32m    162\u001b[0m \u001b[43m    \u001b[49m\u001b[43msolver\u001b[49m\u001b[38;5;241;43m.\u001b[39;49m\u001b[43mf\u001b[49m\u001b[43m,\u001b[49m\u001b[43m \u001b[49m\u001b[43msolver\u001b[49m\u001b[38;5;241;43m.\u001b[39;49m\u001b[43mjac\u001b[49m\u001b[43m \u001b[49m\u001b[38;5;129;43;01mor\u001b[39;49;00m\u001b[43m \u001b[49m\u001b[43m(\u001b[49m\u001b[38;5;28;43;01mlambda\u001b[39;49;00m\u001b[43m:\u001b[49m\u001b[43m \u001b[49m\u001b[38;5;28;43;01mNone\u001b[39;49;00m\u001b[43m)\u001b[49m\u001b[43m,\u001b[49m\u001b[43m \u001b[49m\u001b[43msolver\u001b[49m\u001b[38;5;241;43m.\u001b[39;49m\u001b[43m_y\u001b[49m\u001b[43m,\u001b[49m\u001b[43m \u001b[49m\u001b[43msolver\u001b[49m\u001b[38;5;241;43m.\u001b[39;49m\u001b[43mt\u001b[49m\u001b[43m,\u001b[49m\n\u001b[1;32m    163\u001b[0m \u001b[43m    \u001b[49m\u001b[38;5;28;43mself\u001b[39;49m\u001b[38;5;241;43m.\u001b[39;49m\u001b[43mt_bound\u001b[49m\u001b[43m,\u001b[49m\u001b[43m \u001b[49m\u001b[43msolver\u001b[49m\u001b[38;5;241;43m.\u001b[39;49m\u001b[43mf_params\u001b[49m\u001b[43m,\u001b[49m\u001b[43m \u001b[49m\u001b[43msolver\u001b[49m\u001b[38;5;241;43m.\u001b[39;49m\u001b[43mjac_params\u001b[49m\u001b[43m)\u001b[49m\n\u001b[1;32m    164\u001b[0m integrator\u001b[38;5;241m.\u001b[39mcall_args[\u001b[38;5;241m2\u001b[39m] \u001b[38;5;241m=\u001b[39m itask\n\u001b[1;32m    166\u001b[0m \u001b[38;5;28;01mif\u001b[39;00m solver\u001b[38;5;241m.\u001b[39msuccessful():\n",
      "File \u001b[0;32m/usr/lib/python3.12/site-packages/scipy/integrate/_ode.py:1347\u001b[0m, in \u001b[0;36mlsoda.run\u001b[0;34m(self, f, jac, y0, t0, t1, f_params, jac_params)\u001b[0m\n\u001b[1;32m   1344\u001b[0m     \u001b[38;5;28mself\u001b[39m\u001b[38;5;241m.\u001b[39macquire_new_handle()\n\u001b[1;32m   1345\u001b[0m args \u001b[38;5;241m=\u001b[39m [f, y0, t0, t1] \u001b[38;5;241m+\u001b[39m \u001b[38;5;28mself\u001b[39m\u001b[38;5;241m.\u001b[39mcall_args[:\u001b[38;5;241m-\u001b[39m\u001b[38;5;241m1\u001b[39m] \u001b[38;5;241m+\u001b[39m \\\n\u001b[1;32m   1346\u001b[0m        [jac, \u001b[38;5;28mself\u001b[39m\u001b[38;5;241m.\u001b[39mcall_args[\u001b[38;5;241m-\u001b[39m\u001b[38;5;241m1\u001b[39m], f_params, \u001b[38;5;241m0\u001b[39m, jac_params]\n\u001b[0;32m-> 1347\u001b[0m y1, t, istate \u001b[38;5;241m=\u001b[39m \u001b[38;5;28;43mself\u001b[39;49m\u001b[38;5;241;43m.\u001b[39;49m\u001b[43mrunner\u001b[49m\u001b[43m(\u001b[49m\u001b[38;5;241;43m*\u001b[39;49m\u001b[43margs\u001b[49m\u001b[43m)\u001b[49m\n\u001b[1;32m   1348\u001b[0m \u001b[38;5;28mself\u001b[39m\u001b[38;5;241m.\u001b[39mistate \u001b[38;5;241m=\u001b[39m istate\n\u001b[1;32m   1349\u001b[0m \u001b[38;5;28;01mif\u001b[39;00m istate \u001b[38;5;241m<\u001b[39m \u001b[38;5;241m0\u001b[39m:\n",
      "File \u001b[0;32m/usr/lib/python3.12/site-packages/scipy/integrate/_ivp/ivp.py:596\u001b[0m, in \u001b[0;36msolve_ivp.<locals>.<lambda>\u001b[0;34m(t, x)\u001b[0m\n\u001b[1;32m    594\u001b[0m     jac \u001b[38;5;241m=\u001b[39m options\u001b[38;5;241m.\u001b[39mget(\u001b[38;5;124m'\u001b[39m\u001b[38;5;124mjac\u001b[39m\u001b[38;5;124m'\u001b[39m)\n\u001b[1;32m    595\u001b[0m     \u001b[38;5;28;01mif\u001b[39;00m \u001b[38;5;28mcallable\u001b[39m(jac):\n\u001b[0;32m--> 596\u001b[0m         options[\u001b[38;5;124m'\u001b[39m\u001b[38;5;124mjac\u001b[39m\u001b[38;5;124m'\u001b[39m] \u001b[38;5;241m=\u001b[39m \u001b[38;5;28;01mlambda\u001b[39;00m t, x: \u001b[43mjac\u001b[49m\u001b[43m(\u001b[49m\u001b[43mt\u001b[49m\u001b[43m,\u001b[49m\u001b[43m \u001b[49m\u001b[43mx\u001b[49m\u001b[43m,\u001b[49m\u001b[43m \u001b[49m\u001b[38;5;241;43m*\u001b[39;49m\u001b[43margs\u001b[49m\u001b[43m)\u001b[49m\n\u001b[1;32m    598\u001b[0m \u001b[38;5;28;01mif\u001b[39;00m t_eval \u001b[38;5;129;01mis\u001b[39;00m \u001b[38;5;129;01mnot\u001b[39;00m \u001b[38;5;28;01mNone\u001b[39;00m:\n\u001b[1;32m    599\u001b[0m     t_eval \u001b[38;5;241m=\u001b[39m np\u001b[38;5;241m.\u001b[39masarray(t_eval)\n",
      "File \u001b[0;32m~/Desktop/numerical_shape/felix/VesicleShapesPietro.py:229\u001b[0m, in \u001b[0;36mShapeJacobian\u001b[0;34m(s, z, omega, sigma)\u001b[0m\n\u001b[1;32m    226\u001b[0m a34 \u001b[38;5;241m=\u001b[39m \u001b[38;5;241m2\u001b[39m\u001b[38;5;241m*\u001b[39momega\u001b[38;5;241m*\u001b[39mnp\u001b[38;5;241m.\u001b[39mpi\u001b[38;5;241m*\u001b[39mk\u001b[38;5;241m*\u001b[39mnp\u001b[38;5;241m.\u001b[39msin(psi)\u001b[38;5;241m/\u001b[39mx\u001b[38;5;241m*\u001b[39m\u001b[38;5;241m*\u001b[39m\u001b[38;5;241m3\u001b[39m \u001b[38;5;66;03m# dgammadx\u001b[39;00m\n\u001b[1;32m    227\u001b[0m a33,a35,a36 \u001b[38;5;241m=\u001b[39m \u001b[38;5;241m0\u001b[39m,\u001b[38;5;241m0\u001b[39m,\u001b[38;5;241m0\u001b[39m\n\u001b[0;32m--> 229\u001b[0m a41 \u001b[38;5;241m=\u001b[39m \u001b[38;5;241m-\u001b[39momega\u001b[38;5;241m*\u001b[39m\u001b[43mnp\u001b[49m\u001b[38;5;241;43m.\u001b[39;49m\u001b[43msin\u001b[49m\u001b[43m(\u001b[49m\u001b[43mpsi\u001b[49m\u001b[43m)\u001b[49m \u001b[38;5;66;03m# dxdpsi\u001b[39;00m\n\u001b[1;32m    230\u001b[0m a42,a43,a44,a45,a46 \u001b[38;5;241m=\u001b[39m \u001b[38;5;241m0\u001b[39m,\u001b[38;5;241m0\u001b[39m,\u001b[38;5;241m0\u001b[39m,\u001b[38;5;241m0\u001b[39m,\u001b[38;5;241m0\u001b[39m\n\u001b[1;32m    232\u001b[0m a54 \u001b[38;5;241m=\u001b[39m omega \u001b[38;5;66;03m# dAdx\u001b[39;00m\n",
      "\u001b[0;31mKeyboardInterrupt\u001b[0m: "
     ]
    }
   ],
   "source": [
    "sol = solve_ivp(ShapeIntegrator, t_span=[s_init, omega], y0=z_init, jac=ShapeJacobian, args=(\n",
    "    omega, sigma), method='LSODA')\n",
    "print(sol)"
   ]
  },
  {
   "cell_type": "code",
   "execution_count": 10,
   "metadata": {},
   "outputs": [
    {
     "data": {
      "text/plain": [
       "4304"
      ]
     },
     "execution_count": 10,
     "metadata": {},
     "output_type": "execute_result"
    }
   ],
   "source": [
    "len(sol.t)"
   ]
  },
  {
   "cell_type": "code",
   "execution_count": 61,
   "metadata": {},
   "outputs": [
    {
     "name": "stdout",
     "output_type": "stream",
     "text": [
      "  message: Required step size is less than spacing between numbers.\n",
      "  success: False\n",
      "   status: -1\n",
      "        t: [ 1.760e-02  1.760e-02 ...  1.980e-02  1.980e-02]\n",
      "        y: [[ 3.520e-02  3.520e-02 ...  1.071e-08  1.071e-08]\n",
      "            [ 9.999e-01  1.001e+00 ...  1.571e+00  1.571e+00]\n",
      "            ...\n",
      "            [ 3.519e-02  3.519e-02 ...  3.582e-02  3.582e-02]\n",
      "            [ 3.097e-04  3.098e-04 ...  4.271e-04  4.271e-04]]\n",
      "      sol: None\n",
      " t_events: None\n",
      " y_events: None\n",
      "     nfev: 36170\n",
      "     njev: 3349\n",
      "      nlu: 14305\n"
     ]
    }
   ],
   "source": [
    "print(sol)"
   ]
  },
  {
   "cell_type": "code",
   "execution_count": 8,
   "metadata": {},
   "outputs": [
    {
     "data": {
      "text/plain": [
       "[<matplotlib.lines.Line2D at 0x73977bad6000>]"
      ]
     },
     "execution_count": 8,
     "metadata": {},
     "output_type": "execute_result"
    },
    {
     "data": {
      "image/png": "[encoded data removed]",
      "text/plain": [
       "<Figure size 640x480 with 1 Axes>"
      ]
     },
     "metadata": {},
     "output_type": "display_data"
    }
   ],
   "source": [
    "plt.semilogx(sol.t, sol.y[1, :], 'bo-')"
   ]
  },
  {
   "cell_type": "code",
   "execution_count": 54,
   "metadata": {},
   "outputs": [
    {
     "data": {
      "text/plain": [
       "array([ 8.11491795e-09,  1.57068671e+00, -2.78257998e+04,  3.58207859e-02,\n",
       "        4.27244810e-04])"
      ]
     },
     "execution_count": 54,
     "metadata": {},
     "output_type": "execute_result"
    }
   ],
   "source": [
    "sol.y[:, -1]"
   ]
  },
  {
   "cell_type": "markdown",
   "metadata": {},
   "source": [
    "# test when xstar is too small"
   ]
  },
  {
   "cell_type": "code",
   "execution_count": 34,
   "metadata": {},
   "outputs": [
    {
     "name": "stdout",
     "output_type": "stream",
     "text": [
      "xstar:0.049999999999999996\n"
     ]
    }
   ],
   "source": [
    "Rparticle = 3\n",
    "Rvesicle = 30\n",
    "phi = np.pi/6\n",
    "rpa = Rparticle / Rvesicle\n",
    "xstar = rpa*np.sin(phi)\n",
    "print(f\"xstar:{xstar}\")"
   ]
  }
 ],
 "metadata": {
  "kernelspec": {
   "display_name": "Python 3",
   "language": "python",
   "name": "python3"
  },
  "language_info": {
   "codemirror_mode": {
    "name": "ipython",
    "version": 3
   },
   "file_extension": ".py",
   "mimetype": "text/x-python",
   "name": "python",
   "nbconvert_exporter": "python",
   "pygments_lexer": "ipython3",
   "version": "3.12.3"
  }
 },
 "nbformat": 4,
 "nbformat_minor": 2
}
